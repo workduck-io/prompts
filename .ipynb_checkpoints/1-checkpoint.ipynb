{
 "cells": [
  {
   "cell_type": "code",
   "execution_count": 1,
   "id": "ee87633f",
   "metadata": {},
   "outputs": [
    {
     "name": "stdout",
     "output_type": "stream",
     "text": [
      "Requirement already satisfied: openai in /Users/abhijeetranjan/anaconda3/lib/python3.10/site-packages (0.27.8)\n",
      "Requirement already satisfied: aiohttp in /Users/abhijeetranjan/anaconda3/lib/python3.10/site-packages (from openai) (3.8.4)\n",
      "Requirement already satisfied: tqdm in /Users/abhijeetranjan/anaconda3/lib/python3.10/site-packages (from openai) (4.64.1)\n",
      "Requirement already satisfied: requests>=2.20 in /Users/abhijeetranjan/anaconda3/lib/python3.10/site-packages (from openai) (2.28.1)\n",
      "Requirement already satisfied: certifi>=2017.4.17 in /Users/abhijeetranjan/anaconda3/lib/python3.10/site-packages (from requests>=2.20->openai) (2022.12.7)\n",
      "Requirement already satisfied: urllib3<1.27,>=1.21.1 in /Users/abhijeetranjan/anaconda3/lib/python3.10/site-packages (from requests>=2.20->openai) (1.26.14)\n",
      "Requirement already satisfied: charset-normalizer<3,>=2 in /Users/abhijeetranjan/anaconda3/lib/python3.10/site-packages (from requests>=2.20->openai) (2.0.4)\n",
      "Requirement already satisfied: idna<4,>=2.5 in /Users/abhijeetranjan/anaconda3/lib/python3.10/site-packages (from requests>=2.20->openai) (3.4)\n",
      "Requirement already satisfied: frozenlist>=1.1.1 in /Users/abhijeetranjan/anaconda3/lib/python3.10/site-packages (from aiohttp->openai) (1.3.3)\n",
      "Requirement already satisfied: aiosignal>=1.1.2 in /Users/abhijeetranjan/anaconda3/lib/python3.10/site-packages (from aiohttp->openai) (1.3.1)\n",
      "Requirement already satisfied: yarl<2.0,>=1.0 in /Users/abhijeetranjan/anaconda3/lib/python3.10/site-packages (from aiohttp->openai) (1.9.2)\n",
      "Requirement already satisfied: attrs>=17.3.0 in /Users/abhijeetranjan/anaconda3/lib/python3.10/site-packages (from aiohttp->openai) (22.1.0)\n",
      "Requirement already satisfied: async-timeout<5.0,>=4.0.0a3 in /Users/abhijeetranjan/anaconda3/lib/python3.10/site-packages (from aiohttp->openai) (4.0.2)\n",
      "Requirement already satisfied: multidict<7.0,>=4.5 in /Users/abhijeetranjan/anaconda3/lib/python3.10/site-packages (from aiohttp->openai) (6.0.4)\n"
     ]
    }
   ],
   "source": [
    "!pip install openai"
   ]
  },
  {
   "cell_type": "code",
   "execution_count": null,
   "id": "3e189791",
   "metadata": {},
   "outputs": [],
   "source": [
    "!pip install"
   ]
  },
  {
   "cell_type": "code",
   "execution_count": 53,
   "id": "ec138eed",
   "metadata": {},
   "outputs": [
    {
     "ename": "ModuleNotFoundError",
     "evalue": "No module named 'dotenv'",
     "output_type": "error",
     "traceback": [
      "\u001b[0;31m---------------------------------------------------------------------------\u001b[0m",
      "\u001b[0;31mModuleNotFoundError\u001b[0m                       Traceback (most recent call last)",
      "Cell \u001b[0;32mIn[53], line 4\u001b[0m\n\u001b[1;32m      1\u001b[0m \u001b[38;5;28;01mimport\u001b[39;00m \u001b[38;5;21;01mopenai\u001b[39;00m\n\u001b[1;32m      2\u001b[0m \u001b[38;5;28;01mimport\u001b[39;00m \u001b[38;5;21;01mos\u001b[39;00m\n\u001b[0;32m----> 4\u001b[0m \u001b[38;5;28;01mfrom\u001b[39;00m \u001b[38;5;21;01mdotenv\u001b[39;00m \u001b[38;5;28;01mimport\u001b[39;00m load_dotenv, find_dotenv\n\u001b[1;32m      5\u001b[0m _ \u001b[38;5;241m=\u001b[39m load_dotenv(find_dotenv()) \u001b[38;5;66;03m# read local .env file\u001b[39;00m\n\u001b[1;32m      7\u001b[0m openai\u001b[38;5;241m.\u001b[39mapi_key  \u001b[38;5;241m=\u001b[39m os\u001b[38;5;241m.\u001b[39mgetenv(\u001b[38;5;124m'\u001b[39m\u001b[38;5;124mOPENAI_API_KEY\u001b[39m\u001b[38;5;124m'\u001b[39m)\n",
      "\u001b[0;31mModuleNotFoundError\u001b[0m: No module named 'dotenv'"
     ]
    }
   ],
   "source": [
    "import openai\n",
    "import os\n",
    "\n",
    "from dotenv import load_dotenv, find_dotenv\n",
    "_ = load_dotenv(find_dotenv()) # read local .env file\n",
    "\n",
    "openai.api_key  = os.getenv('OPENAI_API_KEY')"
   ]
  },
  {
   "cell_type": "code",
   "execution_count": 46,
   "id": "0c93966e",
   "metadata": {},
   "outputs": [],
   "source": [
    "def get_completion(prompt, model=\"gpt-3.5-turbo\"):\n",
    "    messages = [{\"role\": \"user\", \"content\": prompt}]\n",
    "    response = openai.ChatCompletion.create(\n",
    "        model=model,\n",
    "        messages=messages,\n",
    "        temperature=0, # this is the degree of randomness of the model's output\n",
    "    )\n",
    "    return response.choices[0].message[\"content\"]"
   ]
  },
  {
   "cell_type": "code",
   "execution_count": 47,
   "id": "e682077b",
   "metadata": {},
   "outputs": [
    {
     "name": "stdout",
     "output_type": "stream",
     "text": [
      "- track webinar registrants\n",
      "- track webinar attendees\n",
      "- HS (referring to a system or platform)\n",
      "- data extraction\n",
      "- CSV (file format)\n",
      "- GoToWebinar\n",
      "- emulate\n",
      "- Zoom\n",
      "- filter by percent of time spent in webinar\n",
      "- registrants who did not attend vs attendees\n"
     ]
    }
   ],
   "source": [
    "text = f\"Overall it works but there needs to be\\\n",
    "a way to track webinar registrants vs attendees\\\n",
    "in HS without extracting the data via CSV. \\\n",
    "GoToWebinar has a great system for this that \\\n",
    "they should try and emulate. Instead, Zoom \\\n",
    "has the ability to filter by what percent an \\\n",
    "attendee spends in a webinar (ie: 30 mins = 50%) \\\n",
    "but no way to simply see registrants who did not \\\n",
    "attend vs attendees.\"\n",
    "\n",
    "prompt = f\"\"\"\n",
    "Analyse the text delimited by triple backticks\\\n",
    "and generate some of the keywords mentioned in that and\\\n",
    "show those keywords in list format. The keywords\\\n",
    "should not exceed more than 10 and focus on only\\\n",
    "important keywords.\n",
    "Format your response as a list of items separated by commas.\\\n",
    "```{text}```\n",
    "\"\"\"\n",
    "response = get_completion(prompt)\n",
    "print(response)"
   ]
  },
  {
   "cell_type": "code",
   "execution_count": 48,
   "id": "da2bd413",
   "metadata": {},
   "outputs": [
    {
     "name": "stdout",
     "output_type": "stream",
     "text": [
      "negative\n"
     ]
    }
   ],
   "source": [
    "text = f\"Overall it works but there needs to be\\\n",
    "a way to track webinar registrants vs attendees\\\n",
    "in HS without extracting the data via CSV. \\\n",
    "GoToWebinar has a great system for this that \\\n",
    "they should try and emulate. Instead, Zoom \\\n",
    "has the ability to filter by what percent an \\\n",
    "attendee spends in a webinar (ie: 30 mins = 50%) \\\n",
    "but no way to simply see registrants who did not \\\n",
    "attend vs attendees.\"\n",
    "\n",
    "prompt = f\"\"\"\n",
    "What is the sentiment of the following user feedback, \n",
    "which is delimited with triple backticks?\n",
    "\n",
    "Give your answer as a single word, either \"positive\" \\\n",
    "or \"negative\".\n",
    "```{text}```\n",
    "\"\"\"\n",
    "response = get_completion(prompt)\n",
    "print(response)"
   ]
  },
  {
   "cell_type": "code",
   "execution_count": 49,
   "id": "a51ff74e",
   "metadata": {},
   "outputs": [
    {
     "name": "stdout",
     "output_type": "stream",
     "text": [
      "satisfied, unsatisfied\n"
     ]
    }
   ],
   "source": [
    "text = f\"Overall it works but there needs to be\\\n",
    "a way to track webinar registrants vs attendees\\\n",
    "in HS without extracting the data via CSV. \\\n",
    "GoToWebinar has a great system for this that \\\n",
    "they should try and emulate. Instead, Zoom \\\n",
    "has the ability to filter by what percent an \\\n",
    "attendee spends in a webinar (ie: 30 mins = 50%) \\\n",
    "but no way to simply see registrants who did not \\\n",
    "attend vs attendees.\"\n",
    "\n",
    "tags = [\"happy\", \"sad\", \"satisfied\", \"unsatisfied\", \"neutral\"]\n",
    "\n",
    "prompt = f\"\"\"\n",
    "You will be provided with a user feedback text\\\n",
    "which is delimited with triple backticks and\\\n",
    "list of tags which is delimited with double back\\\n",
    "ticks. You need to determine which tags from the\\\n",
    "given list relate to the given feedback text. \\\n",
    "Format your response as a list of items separated by commas.\\\n",
    "```{text}```\n",
    "``{tags}``\n",
    "\"\"\"\n",
    "response = get_completion(prompt)\n",
    "print(response)"
   ]
  },
  {
   "cell_type": "code",
   "execution_count": 50,
   "id": "7781f6b2",
   "metadata": {},
   "outputs": [
    {
     "name": "stdout",
     "output_type": "stream",
     "text": [
      "The user suggests adding a feature to track webinar registrants vs attendees in HS without extracting data via CSV. They recommend emulating GoToWebinar's system or adding a filter for attendee engagement in Zoom.\n"
     ]
    }
   ],
   "source": [
    "text = f\"Overall it works but there needs to be\\\n",
    "a way to track webinar registrants vs attendees\\\n",
    "in HS without extracting the data via CSV. \\\n",
    "GoToWebinar has a great system for this that \\\n",
    "they should try and emulate. Instead, Zoom \\\n",
    "has the ability to filter by what percent an \\\n",
    "attendee spends in a webinar (ie: 30 mins = 50%) \\\n",
    "but no way to simply see registrants who did not \\\n",
    "attend vs attendees.\"\n",
    "\n",
    "prompt = f\"\"\"\n",
    "Your task is to generate a short summary of a user \\\n",
    "feedback. \n",
    "Summarize the feedback, delimited by triple \n",
    "backticks, in at most 30 words. \n",
    "```{text}```\n",
    "\"\"\"\n",
    "response = get_completion(prompt)\n",
    "print(response)"
   ]
  },
  {
   "cell_type": "code",
   "execution_count": 51,
   "id": "29cbc93a",
   "metadata": {},
   "outputs": [
    {
     "name": "stdout",
     "output_type": "stream",
     "text": [
      "The user is providing feedback on a system that tracks webinar registrants and attendees in a platform called HS (not specified what HS stands for). The user mentions that the system currently works, but they suggest adding a feature that allows tracking of registrants versus attendees without having to extract the data using CSV (comma-separated values) files. They mention that GoToWebinar has a good system for this and suggest emulating it. They also mention that Zoom, another platform, has a feature where attendees can be filtered based on the percentage of time they spend in a webinar, but there is no way to easily differentiate between registrants who did not attend and actual attendees.\n"
     ]
    }
   ],
   "source": [
    "text = f\"Overall it works but there needs to be\\\n",
    "a way to track webinar registrants vs attendees\\\n",
    "in HS without extracting the data via CSV. \\\n",
    "GoToWebinar has a great system for this that \\\n",
    "they should try and emulate. Instead, Zoom \\\n",
    "has the ability to filter by what percent an \\\n",
    "attendee spends in a webinar (ie: 30 mins = 50%) \\\n",
    "but no way to simply see registrants who did not \\\n",
    "attend vs attendees.\"\n",
    "\n",
    "prompt = f\"\"\"\n",
    "You should act like r/elif forum of reddit.\\\n",
    "You will be provided with a user feedback text\\\n",
    "which is delimited with triple backticks. You \\\n",
    "need to explain the text so that it becomes more\\\n",
    "clear to the person reading it.\n",
    "```{text}```\n",
    "\"\"\"\n",
    "response = get_completion(prompt)\n",
    "print(response)"
   ]
  },
  {
   "cell_type": "code",
   "execution_count": null,
   "id": "79f91016",
   "metadata": {},
   "outputs": [],
   "source": []
  }
 ],
 "metadata": {
  "kernelspec": {
   "display_name": "Python 3 (ipykernel)",
   "language": "python",
   "name": "python3"
  },
  "language_info": {
   "codemirror_mode": {
    "name": "ipython",
    "version": 3
   },
   "file_extension": ".py",
   "mimetype": "text/x-python",
   "name": "python",
   "nbconvert_exporter": "python",
   "pygments_lexer": "ipython3",
   "version": "3.10.9"
  }
 },
 "nbformat": 4,
 "nbformat_minor": 5
}
