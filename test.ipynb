{
 "cells": [
  {
   "cell_type": "code",
   "execution_count": 4,
   "id": "5dc88d43",
   "metadata": {},
   "outputs": [],
   "source": [
    "import openai\n",
    "import os\n",
    "from dotenv import load_dotenv\n",
    "\n",
    "load_dotenv('.env')\n",
    "\n",
    "openai.api_key = os.getenv('OPEN_API_KEY')\n"
   ]
  },
  {
   "cell_type": "code",
   "execution_count": 5,
   "id": "3e86adfb",
   "metadata": {},
   "outputs": [],
   "source": [
    "def get_completion(prompt, model=\"gpt-3.5-turbo\"):\n",
    "    messages = [{\"role\": \"user\", \"content\": prompt}]\n",
    "    response = openai.ChatCompletion.create(\n",
    "        model=model,\n",
    "        messages=messages,\n",
    "        temperature=0, # this is the degree of randomness of the model's output\n",
    "    )\n",
    "    return response.choices[0].message[\"content\"]"
   ]
  },
  {
   "cell_type": "code",
   "execution_count": 6,
   "id": "e7919839",
   "metadata": {},
   "outputs": [
    {
     "name": "stdout",
     "output_type": "stream",
     "text": [
      "Smart Edit, bullets, table, native tables support, Mem, roadmap\n"
     ]
    }
   ],
   "source": [
    "text = f\"I've been loving using Smart Edit and found a great use - making bullets into a table. That's been great, except for one thing - we don't have native tables support in Mem. I know it's been brought up before but wanted to see if that functionality might be on the roadmap. Does anyone know?\"\n",
    "\n",
    "prompt = f\"\"\"\n",
    "Analyse the text delimited by triple backticks\\\n",
    "and generate some of the keywords mentioned in that and\\\n",
    "show those keywords in list format. The keywords\\\n",
    "should not exceed more than 10 and focus on only\\\n",
    "important keywords.\n",
    "Format your response as a list of items separated by commas.\\\n",
    "```{text}```\n",
    "\n",
    "response_format = [keyword1, keyword2, ...]\n",
    "\"\"\"\n",
    "response = get_completion(prompt)\n",
    "print(response)"
   ]
  },
  {
   "cell_type": "code",
   "execution_count": null,
   "id": "25b588ce",
   "metadata": {},
   "outputs": [],
   "source": []
  }
 ],
 "metadata": {
  "kernelspec": {
   "display_name": "Python 3 (ipykernel)",
   "language": "python",
   "name": "python3"
  },
  "language_info": {
   "codemirror_mode": {
    "name": "ipython",
    "version": 3
   },
   "file_extension": ".py",
   "mimetype": "text/x-python",
   "name": "python",
   "nbconvert_exporter": "python",
   "pygments_lexer": "ipython3",
   "version": "3.10.9"
  }
 },
 "nbformat": 4,
 "nbformat_minor": 5
}
