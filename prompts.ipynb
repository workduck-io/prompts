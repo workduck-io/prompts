{
 "cells": [
  {
   "cell_type": "code",
   "execution_count": 1,
   "id": "a4fbcf98",
   "metadata": {},
   "outputs": [],
   "source": [
    "import openai\n",
    "import os\n",
    "\n",
    "from dotenv import load_dotenv, find_dotenv\n",
    "_ = load_dotenv(find_dotenv()) # read local .env file\n",
    "\n",
    "openai.api_key  = os.getenv('OPEN_API_KEY')"
   ]
  },
  {
   "cell_type": "code",
   "execution_count": 2,
   "id": "095b2497",
   "metadata": {},
   "outputs": [],
   "source": [
    "def get_completion(prompt, model=\"gpt-3.5-turbo\"):\n",
    "    messages = [{\"role\": \"user\", \"content\": prompt}]\n",
    "    response = openai.ChatCompletion.create(\n",
    "        model=model,\n",
    "        messages=messages,\n",
    "        temperature=0, # this is the degree of randomness of the model's output\n",
    "    )\n",
    "    return response.choices[0].message[\"content\"]"
   ]
  },
  {
   "cell_type": "code",
   "execution_count": 4,
   "id": "46fbeb4d",
   "metadata": {},
   "outputs": [
    {
     "name": "stdout",
     "output_type": "stream",
     "text": [
      "Mixed\n"
     ]
    }
   ],
   "source": [
    "text = f\"Overall it works but there needs to be\\\n",
    "a way to track webinar registrants vs attendees\\\n",
    "in HS without extracting the data via CSV. \\\n",
    "GoToWebinar has a great system for this that \\\n",
    "they should try and emulate. Instead, Zoom \\\n",
    "has the ability to filter by what percent an \\\n",
    "attendee spends in a webinar (ie: 30 mins = 50%) \\\n",
    "but no way to simply see registrants who did not \\\n",
    "attend vs attendees.\"\n",
    "\n",
    "prompt = f\"\"\"\n",
    "\n",
    "``Example1 = I installed the never install extension on my chrome browser and its version is 110.0.5481.178 and it is filled with the error image your browser dose not support pwa download. please switch chrome browser for best experience\n",
    "And it can't, it gives the error your space is paused\n",
    "sentiment = Negative\n",
    "\n",
    "Example2 = the feature updates are great, my experience using neverinstall is much more smooth now (: just wishing the microphone-camera functionality gets introduced soon\n",
    "sentiment = Positive\n",
    "\n",
    "Example3 = Awesome project but so far unusable on mobile browser - can’t easily resize the screen. Hard to see what you’re doing.\n",
    "sentiment = Positive``\n",
    "\n",
    "Based on above examples delimited with double backticks determine the sentiment of the following user feedback, \n",
    "which is delimited with triple backticks?\n",
    "\n",
    "Give your answer in single word, either \"positive\", \\\n",
    "\"negative\" or \"mixed\".\n",
    "```{text}```\n",
    "\"\"\"\n",
    "response = get_completion(prompt)\n",
    "print(response)"
   ]
  },
  {
   "cell_type": "code",
   "execution_count": 5,
   "id": "ea577d62",
   "metadata": {},
   "outputs": [
    {
     "name": "stdout",
     "output_type": "stream",
     "text": [
      "keywords = [Smart Edit, bullets, table, native tables support, Mem, functionality, roadmap]\n"
     ]
    }
   ],
   "source": [
    "text = f\"I've been loving using Smart Edit and found a great use - making bullets into a table. That's been great, except for one thing - we don't have native tables support in Mem. I know it's been brought up before but wanted to see if that functionality might be on the roadmap. Does anyone know?\"\n",
    "\n",
    "prompt = f\"\"\"\n",
    "``Example1 = https://neverinstall.com/ whenever I am open this URL, it automatically opening my space. I don’t like this behaviour. I just want to check my listed spaces, but you folks are opening space directly.\n",
    "keywords = [neverinstall.com, URL, open, space, behaviour, check, listed spaces, opening, directly, don't like]``\n",
    "\n",
    "\n",
    "Based on above example delimited with double backticks, analyse the text delimited by triple backticks\\\n",
    "and generate some of the keywords mentioned in that and\\\n",
    "show those keywords in list format. The keywords\\\n",
    "should not exceed more than 10 and focus on only\\\n",
    "important keywords.\n",
    "Format your response as a list of items separated by commas.\\\n",
    "\n",
    "```{text}```\n",
    "\n",
    "\"\"\"\n",
    "response = get_completion(prompt)\n",
    "print(response)"
   ]
  },
  {
   "cell_type": "code",
   "execution_count": 9,
   "id": "38c3ba85",
   "metadata": {},
   "outputs": [
    {
     "name": "stdout",
     "output_type": "stream",
     "text": [
      "satisfied, unsatisfied\n"
     ]
    }
   ],
   "source": [
    "text = f\"Hi, I really like the app, but there is a little problem, it doesn't have a file explorer, sometimes I download things in zip files and I want to extract them to use them, but I can't, there is a way to use a file explorer? Thanks.\"\n",
    "\n",
    "tags = [\"happy\", \"sad\", \"satisfied\", \"unsatisfied\", \"neutral\"]\n",
    "\n",
    "prompt = f\"\"\"\n",
    "You will be provided with a user feedback text\\\n",
    "which is delimited with triple backticks and\\\n",
    "list of tags which is delimited with double back\\\n",
    "ticks. You need to determine which tags from the\\\n",
    "given list justify the given feedback text. \\\n",
    "Format your response as a list of items separated by commas.\\\n",
    "```{text}```\n",
    "``{tags}``\n",
    "\"\"\"\n",
    "response = get_completion(prompt)\n",
    "print(response)"
   ]
  },
  {
   "cell_type": "code",
   "execution_count": 10,
   "id": "c2f6737c",
   "metadata": {},
   "outputs": [
    {
     "name": "stdout",
     "output_type": "stream",
     "text": [
      "App lacks file explorer, user wants to extract downloaded files.\n"
     ]
    }
   ],
   "source": [
    "text = f\"Hi, I really like the app, but there is a little problem, it doesn't have a file explorer, sometimes I download things in zip files and I want to extract them to use them, but I can't, there is a way to use a file explorer? Thanks.\"\n",
    "\n",
    "prompt = f\"\"\"\n",
    "Your task is to generate a short summary of a user \\\n",
    "feedback. \n",
    "Summarize the feedback, delimited by triple \n",
    "backticks, in at most 10 words. \n",
    "```{text}```\n",
    "\"\"\"\n",
    "response = get_completion(prompt)\n",
    "print(response)"
   ]
  },
  {
   "cell_type": "code",
   "execution_count": 11,
   "id": "bf50d385",
   "metadata": {},
   "outputs": [
    {
     "name": "stdout",
     "output_type": "stream",
     "text": [
      "The user is providing feedback on a system or platform that they are using. They mention that the system is generally functional, but they have a specific issue regarding tracking webinar registrants versus attendees in a platform called HS (which is not specified). They suggest that the platform should have a feature similar to GoToWebinar, which apparently has a good system for tracking registrants and attendees. \n",
      "\n",
      "The user also mentions that Zoom, another platform they are using, has a different but somewhat related feature. In Zoom, it is possible to filter attendees based on the percentage of time they spent in a webinar. For example, if an attendee spends 30 minutes in a webinar, it would be considered as 50% attendance. However, the user points out that Zoom lacks a simple way to differentiate between registrants who did not attend the webinar and actual attendees. \n",
      "\n",
      "In summary, the user is requesting that the HS platform should improve its tracking system for webinar registrants and attendees, possibly by emulating the system used by GoToWebinar. They also mention a feature in Zoom that could be useful, but it does not fully address their specific tracking needs.\n"
     ]
    }
   ],
   "source": [
    "text = f\"Overall it works but there needs to be\\\n",
    "a way to track webinar registrants vs attendees\\\n",
    "in HS without extracting the data via CSV. \\\n",
    "GoToWebinar has a great system for this that \\\n",
    "they should try and emulate. Instead, Zoom \\\n",
    "has the ability to filter by what percent an \\\n",
    "attendee spends in a webinar (ie: 30 mins = 50%) \\\n",
    "but no way to simply see registrants who did not \\\n",
    "attend vs attendees.\"\n",
    "\n",
    "prompt = f\"\"\"\n",
    "You should act like r/elif forum of reddit.\\\n",
    "You will be provided with a user feedback text\\\n",
    "which is delimited with triple backticks. You \\\n",
    "need to explain the text so that it becomes more\\\n",
    "clear to the person reading it.\n",
    "```{text}```\n",
    "\"\"\"\n",
    "response = get_completion(prompt)\n",
    "print(response)"
   ]
  },
  {
   "cell_type": "code",
   "execution_count": null,
   "id": "452db168",
   "metadata": {},
   "outputs": [],
   "source": []
  }
 ],
 "metadata": {
  "kernelspec": {
   "display_name": "Python 3 (ipykernel)",
   "language": "python",
   "name": "python3"
  },
  "language_info": {
   "codemirror_mode": {
    "name": "ipython",
    "version": 3
   },
   "file_extension": ".py",
   "mimetype": "text/x-python",
   "name": "python",
   "nbconvert_exporter": "python",
   "pygments_lexer": "ipython3",
   "version": "3.10.9"
  }
 },
 "nbformat": 4,
 "nbformat_minor": 5
}
